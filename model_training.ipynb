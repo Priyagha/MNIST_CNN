{
 "cells": [
  {
   "cell_type": "code",
   "execution_count": 1,
   "metadata": {},
   "outputs": [],
   "source": [
    "import torch\n",
    "import torch.nn as nn\n",
    "import torch.nn.functional as F\n",
    "from torch.utils.data import DataLoader\n",
    "from torchvision import datasets, transforms\n",
    "from torchvision.utils import make_grid\n",
    "from torchinfo import summary\n",
    "\n",
    "import numpy as np\n",
    "import pandas as pd\n",
    "from sklearn.metrics import confusion_matrix\n",
    "import matplotlib.pyplot as plt\n",
    "%matplotlib inline\n",
    "\n",
    "from model import ConvolutionalNetwork"
   ]
  },
  {
   "cell_type": "markdown",
   "metadata": {},
   "source": [
    "# Loading the MNIST dataset"
   ]
  },
  {
   "cell_type": "code",
   "execution_count": 2,
   "metadata": {},
   "outputs": [
    {
     "name": "stdout",
     "output_type": "stream",
     "text": [
      "Downloading http://yann.lecun.com/exdb/mnist/train-images-idx3-ubyte.gz\n",
      "Downloading http://yann.lecun.com/exdb/mnist/train-images-idx3-ubyte.gz to ../Data\\MNIST\\raw\\train-images-idx3-ubyte.gz\n"
     ]
    },
    {
     "name": "stderr",
     "output_type": "stream",
     "text": [
      "100%|██████████| 9912422/9912422 [00:00<00:00, 11114387.41it/s]\n"
     ]
    },
    {
     "name": "stdout",
     "output_type": "stream",
     "text": [
      "Extracting ../Data\\MNIST\\raw\\train-images-idx3-ubyte.gz to ../Data\\MNIST\\raw\n",
      "\n",
      "Downloading http://yann.lecun.com/exdb/mnist/train-labels-idx1-ubyte.gz\n",
      "Downloading http://yann.lecun.com/exdb/mnist/train-labels-idx1-ubyte.gz to ../Data\\MNIST\\raw\\train-labels-idx1-ubyte.gz\n"
     ]
    },
    {
     "name": "stderr",
     "output_type": "stream",
     "text": [
      "100%|██████████| 28881/28881 [00:00<00:00, 1848694.30it/s]"
     ]
    },
    {
     "name": "stdout",
     "output_type": "stream",
     "text": [
      "Extracting ../Data\\MNIST\\raw\\train-labels-idx1-ubyte.gz to ../Data\\MNIST\\raw\n",
      "\n",
      "Downloading http://yann.lecun.com/exdb/mnist/t10k-images-idx3-ubyte.gz\n"
     ]
    },
    {
     "name": "stderr",
     "output_type": "stream",
     "text": [
      "\n"
     ]
    },
    {
     "name": "stdout",
     "output_type": "stream",
     "text": [
      "Downloading http://yann.lecun.com/exdb/mnist/t10k-images-idx3-ubyte.gz to ../Data\\MNIST\\raw\\t10k-images-idx3-ubyte.gz\n"
     ]
    },
    {
     "name": "stderr",
     "output_type": "stream",
     "text": [
      "100%|██████████| 1648877/1648877 [00:00<00:00, 11265574.95it/s]\n"
     ]
    },
    {
     "name": "stdout",
     "output_type": "stream",
     "text": [
      "Extracting ../Data\\MNIST\\raw\\t10k-images-idx3-ubyte.gz to ../Data\\MNIST\\raw\n",
      "\n",
      "Downloading http://yann.lecun.com/exdb/mnist/t10k-labels-idx1-ubyte.gz\n",
      "Downloading http://yann.lecun.com/exdb/mnist/t10k-labels-idx1-ubyte.gz to ../Data\\MNIST\\raw\\t10k-labels-idx1-ubyte.gz\n"
     ]
    },
    {
     "name": "stderr",
     "output_type": "stream",
     "text": [
      "100%|██████████| 4542/4542 [00:00<?, ?it/s]"
     ]
    },
    {
     "name": "stdout",
     "output_type": "stream",
     "text": [
      "Extracting ../Data\\MNIST\\raw\\t10k-labels-idx1-ubyte.gz to ../Data\\MNIST\\raw\n",
      "\n"
     ]
    },
    {
     "name": "stderr",
     "output_type": "stream",
     "text": [
      "\n"
     ]
    }
   ],
   "source": [
    "transform = transforms.ToTensor()\n",
    "\n",
    "train_data = datasets.MNIST(root='../Data', train=True, download=True, transform=transform)\n",
    "test_data = datasets.MNIST(root='../Data', train=False, download=True, transform=transform)"
   ]
  },
  {
   "cell_type": "markdown",
   "metadata": {},
   "source": [
    "### Creating data loaders\n",
    "As working with images we want relatively small batches."
   ]
  },
  {
   "cell_type": "code",
   "execution_count": 3,
   "metadata": {},
   "outputs": [],
   "source": [
    "train_loader = DataLoader(train_data, batch_size=10, shuffle=True)\n",
    "test_loader = DataLoader(test_data, batch_size=10, shuffle=False)"
   ]
  },
  {
   "cell_type": "code",
   "execution_count": 6,
   "metadata": {},
   "outputs": [
    {
     "data": {
      "text/plain": [
       "ConvolutionalNetwork(\n",
       "  (conv1): Conv2d(1, 6, kernel_size=(3, 3), stride=(1, 1))\n",
       "  (conv2): Conv2d(6, 16, kernel_size=(3, 3), stride=(1, 1))\n",
       "  (fc1): Linear(in_features=400, out_features=120, bias=True)\n",
       "  (fc2): Linear(in_features=120, out_features=84, bias=True)\n",
       "  (fc3): Linear(in_features=84, out_features=10, bias=True)\n",
       ")"
      ]
     },
     "execution_count": 6,
     "metadata": {},
     "output_type": "execute_result"
    }
   ],
   "source": [
    "# creating instance of model \n",
    "torch.manual_seed(42) # seeding so we can replicate out results\n",
    "\n",
    "model = ConvolutionalNetwork()\n",
    "model"
   ]
  },
  {
   "cell_type": "code",
   "execution_count": 7,
   "metadata": {},
   "outputs": [
    {
     "data": {
      "text/plain": [
       "==========================================================================================\n",
       "Layer (type:depth-idx)                   Output Shape              Param #\n",
       "==========================================================================================\n",
       "ConvolutionalNetwork                     [10, 10]                  --\n",
       "├─Conv2d: 1-1                            [10, 6, 26, 26]           60\n",
       "├─Conv2d: 1-2                            [10, 16, 11, 11]          880\n",
       "├─Linear: 1-3                            [10, 120]                 48,120\n",
       "├─Linear: 1-4                            [10, 84]                  10,164\n",
       "├─Linear: 1-5                            [10, 10]                  850\n",
       "==========================================================================================\n",
       "Total params: 60,074\n",
       "Trainable params: 60,074\n",
       "Non-trainable params: 0\n",
       "Total mult-adds (M): 2.06\n",
       "==========================================================================================\n",
       "Input size (MB): 0.03\n",
       "Forward/backward pass size (MB): 0.50\n",
       "Params size (MB): 0.24\n",
       "Estimated Total Size (MB): 0.77\n",
       "=========================================================================================="
      ]
     },
     "execution_count": 7,
     "metadata": {},
     "output_type": "execute_result"
    }
   ],
   "source": [
    "summary(model,(10,1,28,28))"
   ]
  },
  {
   "cell_type": "markdown",
   "metadata": {},
   "source": [
    "# Defining loss function and optimizer"
   ]
  },
  {
   "cell_type": "code",
   "execution_count": 8,
   "metadata": {},
   "outputs": [],
   "source": [
    "criterion = nn.CrossEntropyLoss()\n",
    "optimizer = torch.optim.Adam(model.parameters(), lr = 0.001)"
   ]
  },
  {
   "cell_type": "markdown",
   "metadata": {},
   "source": [
    "# Training the Model"
   ]
  },
  {
   "cell_type": "code",
   "execution_count": 9,
   "metadata": {},
   "outputs": [
    {
     "name": "stdout",
     "output_type": "stream",
     "text": [
      "epoch:  0  batch:  600 [  6000/60000]  loss: 0.25808319 \\ accuracy:  78.750%\n",
      "epoch:  0  batch: 1200 [ 12000/60000]  loss: 0.12558192 \\ accuracy:  85.983%\n",
      "epoch:  0  batch: 1800 [ 18000/60000]  loss: 0.03896422 \\ accuracy:  88.944%\n",
      "epoch:  0  batch: 2400 [ 24000/60000]  loss: 0.20835188 \\ accuracy:  90.596%\n",
      "epoch:  0  batch: 3000 [ 30000/60000]  loss: 0.58307952 \\ accuracy:  91.683%\n",
      "epoch:  0  batch: 3600 [ 36000/60000]  loss: 0.13294105 \\ accuracy:  92.506%\n",
      "epoch:  0  batch: 4200 [ 42000/60000]  loss: 0.01490034 \\ accuracy:  93.107%\n",
      "epoch:  0  batch: 4800 [ 48000/60000]  loss: 0.00728325 \\ accuracy:  93.648%\n",
      "epoch:  0  batch: 5400 [ 54000/60000]  loss: 0.00872792 \\ accuracy:  94.037%\n",
      "epoch:  0  batch: 6000 [ 60000/60000]  loss: 0.03737647 \\ accuracy:  94.393%\n",
      "epoch:  1  batch:  600 [  6000/60000]  loss: 0.01177949 \\ accuracy:  97.733%\n",
      "epoch:  1  batch: 1200 [ 12000/60000]  loss: 0.02433350 \\ accuracy:  97.867%\n",
      "epoch:  1  batch: 1800 [ 18000/60000]  loss: 0.01315395 \\ accuracy:  97.856%\n",
      "epoch:  1  batch: 2400 [ 24000/60000]  loss: 0.00127046 \\ accuracy:  97.850%\n",
      "epoch:  1  batch: 3000 [ 30000/60000]  loss: 0.01409962 \\ accuracy:  97.863%\n",
      "epoch:  1  batch: 3600 [ 36000/60000]  loss: 0.00557603 \\ accuracy:  97.914%\n",
      "epoch:  1  batch: 4200 [ 42000/60000]  loss: 0.25640815 \\ accuracy:  97.940%\n",
      "epoch:  1  batch: 4800 [ 48000/60000]  loss: 0.00015588 \\ accuracy:  97.998%\n",
      "epoch:  1  batch: 5400 [ 54000/60000]  loss: 0.03786005 \\ accuracy:  97.981%\n",
      "epoch:  1  batch: 6000 [ 60000/60000]  loss: 0.00915155 \\ accuracy:  97.997%\n",
      "epoch:  2  batch:  600 [  6000/60000]  loss: 0.41420460 \\ accuracy:  98.300%\n",
      "epoch:  2  batch: 1200 [ 12000/60000]  loss: 0.00147160 \\ accuracy:  98.475%\n",
      "epoch:  2  batch: 1800 [ 18000/60000]  loss: 0.14130288 \\ accuracy:  98.483%\n",
      "epoch:  2  batch: 2400 [ 24000/60000]  loss: 0.07883703 \\ accuracy:  98.487%\n",
      "epoch:  2  batch: 3000 [ 30000/60000]  loss: 0.00204858 \\ accuracy:  98.500%\n",
      "epoch:  2  batch: 3600 [ 36000/60000]  loss: 0.00836973 \\ accuracy:  98.542%\n",
      "epoch:  2  batch: 4200 [ 42000/60000]  loss: 0.08577239 \\ accuracy:  98.533%\n",
      "epoch:  2  batch: 4800 [ 48000/60000]  loss: 0.01225396 \\ accuracy:  98.562%\n",
      "epoch:  2  batch: 5400 [ 54000/60000]  loss: 0.00520416 \\ accuracy:  98.533%\n",
      "epoch:  2  batch: 6000 [ 60000/60000]  loss: 0.00109434 \\ accuracy:  98.557%\n",
      "epoch:  3  batch:  600 [  6000/60000]  loss: 0.00144464 \\ accuracy:  98.967%\n",
      "epoch:  3  batch: 1200 [ 12000/60000]  loss: 0.00650352 \\ accuracy:  98.942%\n",
      "epoch:  3  batch: 1800 [ 18000/60000]  loss: 0.00098121 \\ accuracy:  98.950%\n",
      "epoch:  3  batch: 2400 [ 24000/60000]  loss: 0.00555793 \\ accuracy:  98.875%\n",
      "epoch:  3  batch: 3000 [ 30000/60000]  loss: 0.00036894 \\ accuracy:  98.830%\n",
      "epoch:  3  batch: 3600 [ 36000/60000]  loss: 1.02837443 \\ accuracy:  98.789%\n",
      "epoch:  3  batch: 4200 [ 42000/60000]  loss: 0.12723613 \\ accuracy:  98.779%\n",
      "epoch:  3  batch: 4800 [ 48000/60000]  loss: 0.00067195 \\ accuracy:  98.777%\n",
      "epoch:  3  batch: 5400 [ 54000/60000]  loss: 0.00058752 \\ accuracy:  98.809%\n",
      "epoch:  3  batch: 6000 [ 60000/60000]  loss: 0.00087946 \\ accuracy:  98.812%\n",
      "epoch:  4  batch:  600 [  6000/60000]  loss: 0.00723115 \\ accuracy:  99.000%\n",
      "epoch:  4  batch: 1200 [ 12000/60000]  loss: 0.01534930 \\ accuracy:  99.142%\n",
      "epoch:  4  batch: 1800 [ 18000/60000]  loss: 0.00013183 \\ accuracy:  99.156%\n",
      "epoch:  4  batch: 2400 [ 24000/60000]  loss: 0.00013477 \\ accuracy:  99.162%\n",
      "epoch:  4  batch: 3000 [ 30000/60000]  loss: 0.09237228 \\ accuracy:  99.130%\n",
      "epoch:  4  batch: 3600 [ 36000/60000]  loss: 0.00005156 \\ accuracy:  99.056%\n",
      "epoch:  4  batch: 4200 [ 42000/60000]  loss: 0.00162456 \\ accuracy:  99.055%\n",
      "epoch:  4  batch: 4800 [ 48000/60000]  loss: 0.00087394 \\ accuracy:  99.037%\n",
      "epoch:  4  batch: 5400 [ 54000/60000]  loss: 0.00047212 \\ accuracy:  99.057%\n",
      "epoch:  4  batch: 6000 [ 60000/60000]  loss: 0.00053548 \\ accuracy:  99.045%\n",
      "\n",
      "Duration: 3579 seconds\n"
     ]
    }
   ],
   "source": [
    "import time\n",
    "start_time = time.time()\n",
    "\n",
    "epochs = 5\n",
    "train_losses = []\n",
    "test_losses = []\n",
    "train_correct = []\n",
    "test_correct = []\n",
    "\n",
    "for i in range(epochs):\n",
    "    trn_corr = 0\n",
    "    tst_corr = 0\n",
    "    \n",
    "    # Run the training batches\n",
    "    loss_train = 0\n",
    "    for b, (X_train, y_train) in enumerate(train_loader):\n",
    "        b+=1\n",
    "\n",
    "        # Apply the model\n",
    "        y_pred = model(X_train)  # we don't flatten X-train here\n",
    "        loss = criterion(y_pred, y_train)\n",
    "        loss_train += loss.detach()\n",
    "\n",
    "        # Tally the number of correct predictions\n",
    "        predicted = torch.max(y_pred.data, 1)[1]\n",
    "        batch_corr = (predicted == y_train).sum()\n",
    "        trn_corr += batch_corr\n",
    "\n",
    "        # Update parameters\n",
    "        optimizer.zero_grad()\n",
    "        loss.backward()\n",
    "        optimizer.step()\n",
    "\n",
    "        # Print interim results\n",
    "        if b%600 == 0:\n",
    "            print(f'epoch: {i:2}  batch: {b:4} [{10*b:6}/60000]  loss: {loss.item():10.8f} \\ accuracy: {trn_corr.item()*100/(10*b):7.3f}%')\n",
    "        \n",
    "    train_losses.append(loss_train/len(train_loader))\n",
    "    train_correct.append(trn_corr.item())\n",
    "\n",
    "    # Run the testing batches\n",
    "    with torch.no_grad():\n",
    "        for b, (X_test, y_test) in enumerate(test_loader):\n",
    "\n",
    "            # Apply the model\n",
    "            y_val = model(X_test)\n",
    "\n",
    "            # Tally the number of correct predictions\n",
    "            predicted = torch.max(y_val.data, 1)[1] \n",
    "            tst_corr += (predicted == y_test).sum()\n",
    "\n",
    "    loss = criterion(y_val, y_test)\n",
    "    test_losses.append(loss)\n",
    "    test_correct.append(tst_corr)\n",
    "        \n",
    "print(f'\\nDuration: {time.time() - start_time:.0f} seconds') # print the time elapsed     "
   ]
  },
  {
   "cell_type": "code",
   "execution_count": null,
   "metadata": {},
   "outputs": [],
   "source": []
  }
 ],
 "metadata": {
  "kernelspec": {
   "display_name": "base",
   "language": "python",
   "name": "python3"
  },
  "language_info": {
   "codemirror_mode": {
    "name": "ipython",
    "version": 3
   },
   "file_extension": ".py",
   "mimetype": "text/x-python",
   "name": "python",
   "nbconvert_exporter": "python",
   "pygments_lexer": "ipython3",
   "version": "3.10.9"
  }
 },
 "nbformat": 4,
 "nbformat_minor": 2
}
